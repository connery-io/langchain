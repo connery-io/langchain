{
 "cells": [
  {
   "cell_type": "markdown",
   "metadata": {},
   "source": [
    "# Connery Toolkit\n",
    "\n",
    "Using this toolkit, you can integrate Connery Actions into your LangChain agents and chains.\n",
    "\n",
    "If you want to use only one particular Connery Action in your agent,\n",
    "check out the [Connery Action Tool](/docs/integrations/tools/connery) documentation.\n",
    "\n",
    "## What is Connery?\n",
    "\n",
    "Connery is an open-source plugin infrastructure for AI.\n",
    "\n",
    "With Connery, you can easily create a custom plugin with a set of actions and seamlessly integrate them into your LangChain agents and chains. \n",
    "Connery will handle the rest: runtime, authorization, secret management, access management, audit logs, and other vital features.\n",
    "Additionally, Connery and our community offer a wide range of ready-to-use open-source plugins for your convenience.\n",
    "\n",
    "Learn more about Connery:\n",
    "\n",
    "- GitHub: https://github.com/connery-io/connery-platform\n",
    "- Documentation: https://docs.connery.io\n",
    "\n",
    "## Prerequisites\n",
    "\n",
    "To use Connery Actions in your LangChain agents, you need to do some preparation:\n",
    "\n",
    "1. Set up the Connery runner using the [Quickstart](https://docs.connery.io/docs/platform/quick-start/) guide.\n",
    "2. Install all the plugins with the actions you want to use in your agent.\n",
    "3. Set environment variables `CONNERY_RUNNER_URL` and `CONNERY_RUNNER_API_KEY` so the toolkit can communicate with the Connery Runner.\n",
    "\n",
    "## Example\n",
    "\n",
    "In the example below, we create an agent that uses two Connery Actions to summarize a public webpage and send the summary by email:\n",
    "\n",
    "1. **Summarize public webpage** from the [Summarization](https://github.com/connery-io/summarization-plugin) plugin.\n",
    "2. **Send email** from the [Gmail](https://github.com/connery-io/gmail) plugin.\n",
    "\n",
    "NOTE: Connery Action is a structured tool, so you can only use it in the agents supporting structured tools."
   ]
  },
  {
   "cell_type": "code",
   "execution_count": 14,
   "metadata": {},
   "outputs": [],
   "source": [
    "import os\n",
    "from langchain_community.tools.connery import ConneryService\n",
    "from langchain_community.agents.agent_toolkits.connery import ConneryToolkit\n",
    "from langchain.chat_models import ChatOpenAI\n",
    "from langchain.agents import AgentType, initialize_agent\n",
    "\n",
    "# Specify your Connery Runner credentials.\n",
    "os.environ[\"CONNERY_RUNNER_URL\"] = \"\"\n",
    "os.environ[\"CONNERY_RUNNER_API_KEY\"] = \"\"\n",
    "\n",
    "# Specify OpenAI API key.\n",
    "os.environ[\"OPENAI_API_KEY\"] = \"\"\n",
    "\n",
    "# Specify your email address to receive the email with the summary from example below.\n",
    "recepient_email = \"test@example.com\"\n",
    "\n",
    "connery_service = ConneryService()\n",
    "connery_toolkit = ConneryToolkit.create_instance(connery_service)\n",
    "\n",
    "prompt = f\"\"\"Make a short summary of the webpage http://www.paulgraham.com/vb.html in three sentences\n",
    "and send it to {recepient_email}. Include the link to the webpage into the body of the email.\"\"\""
   ]
  },
  {
   "cell_type": "code",
   "execution_count": 15,
   "metadata": {},
   "outputs": [
    {
     "name": "stdout",
     "output_type": "stream",
     "text": [
      "\n",
      "\n",
      "\u001b[1m> Entering new AgentExecutor chain...\u001b[0m\n",
      "\u001b[32;1m\u001b[1;3m\n",
      "Invoking: `CA72DFB0AB4DF6C830B43E14B0782F70` with `{'publicWebpageUrl': 'http://www.paulgraham.com/vb.html'}`\n",
      "\n",
      "\n",
      "\u001b[0m\u001b[33;1m\u001b[1;3m{'summary': 'The author reflects on the shortness of life and how it affects our priorities. They discuss how having children helps them understand the finite nature of time and the importance of prioritizing meaningful experiences. The author emphasizes the need to eliminate unnecessary and fake aspects of life and focus on what truly matters. They also discuss the detrimental effects of online arguments and the need to be conscious of how we spend our time. The author suggests actively seeking out meaningful experiences and not waiting to pursue them. They also mention the importance of savoring the present moment and avoiding the rush of daily tasks. The author concludes by urging readers to prune out the unnecessary, prioritize what matters, and make the most of the time they have.'}\u001b[0m\u001b[32;1m\u001b[1;3m\n",
      "Invoking: `CABC80BB79C15067CA983495324AE709` with `{'recipient': 'test@example.com', 'subject': 'Summary of the webpage', 'body': 'Here is a short summary of the webpage http://www.paulgraham.com/vb.html:\\n\\nThe author reflects on the shortness of life and how it affects our priorities. They discuss how having children helps them understand the finite nature of time and the importance of prioritizing meaningful experiences. The author emphasizes the need to eliminate unnecessary and fake aspects of life and focus on what truly matters. They also discuss the detrimental effects of online arguments and the need to be conscious of how we spend our time. The author suggests actively seeking out meaningful experiences and not waiting to pursue them. They also mention the importance of savoring the present moment and avoiding the rush of daily tasks. The author concludes by urging readers to prune out the unnecessary, prioritize what matters, and make the most of the time they have.\\n\\nYou can find the full article at: http://www.paulgraham.com/vb.html'}`\n",
      "\n",
      "\n",
      "\u001b[0m\u001b[33;1m\u001b[1;3m{'messageId': '<738a419d-6483-f735-5bcb-738cf16e447a@gmail.com>'}\u001b[0m\u001b[32;1m\u001b[1;3mI have sent the email with the summary of the webpage to test@example.com. Please check your inbox.\u001b[0m\n",
      "\n",
      "\u001b[1m> Finished chain.\u001b[0m\n"
     ]
    },
    {
     "data": {
      "text/plain": [
       "'I have sent the email with the summary of the webpage to test@example.com. Please check your inbox.'"
      ]
     },
     "execution_count": 15,
     "metadata": {},
     "output_type": "execute_result"
    }
   ],
   "source": [
    "llm = ChatOpenAI(temperature=0)\n",
    "agent = initialize_agent(\n",
    "    connery_toolkit.get_tools(), \n",
    "    llm, \n",
    "    AgentType.OPENAI_FUNCTIONS, \n",
    "    verbose=True\n",
    ")\n",
    "\n",
    "agent.run(prompt)"
   ]
  }
 ],
 "metadata": {
  "kernelspec": {
   "display_name": "Python 3",
   "language": "python",
   "name": "python3"
  },
  "language_info": {
   "codemirror_mode": {
    "name": "ipython",
    "version": 3
   },
   "file_extension": ".py",
   "mimetype": "text/x-python",
   "name": "python",
   "nbconvert_exporter": "python",
   "pygments_lexer": "ipython3",
   "version": "3.10.13"
  }
 },
 "nbformat": 4,
 "nbformat_minor": 2
}
